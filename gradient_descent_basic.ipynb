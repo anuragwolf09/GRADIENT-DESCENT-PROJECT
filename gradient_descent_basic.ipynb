{
 "cells": [
  {
   "cell_type": "code",
   "execution_count": 1,
   "metadata": {},
   "outputs": [],
   "source": [
    "import numpy as np"
   ]
  },
  {
   "cell_type": "code",
   "execution_count": 4,
   "metadata": {},
   "outputs": [
    {
     "data": {
      "text/plain": [
       "(100, 2)"
      ]
     },
     "execution_count": 4,
     "metadata": {},
     "output_type": "execute_result"
    }
   ],
   "source": [
    "data=np.loadtxt('data.csv',delimiter=',')\n",
    "data.shape"
   ]
  },
  {
   "cell_type": "code",
   "execution_count": 96,
   "metadata": {},
   "outputs": [],
   "source": [
    "def step_gradient(data,learning_rate,m,c):\n",
    "    M=len(data)\n",
    "    mslope=0\n",
    "    cslope=0\n",
    "    for i in range(M):\n",
    "        x=data[i,0]\n",
    "        y=data[i,1]\n",
    "        mslope+=(-2/M)*(y-m*x-c)*x\n",
    "        cslope+=(-2/M)*(y-m*x-c)\n",
    "    new_m=m-(learning_rate*mslope)\n",
    "    new_c=c-(learning_rate*cslope)\n",
    "    return new_m,new_c\n",
    "        "
   ]
  },
  {
   "cell_type": "code",
   "execution_count": 97,
   "metadata": {},
   "outputs": [],
   "source": [
    "def cost(data,m,c):\n",
    "    total_cost=0\n",
    "    M=len(data)\n",
    "    for i in range(M):\n",
    "        x=data[i,0]\n",
    "        y=data[i,1]\n",
    "        total_cost+=(1/M)*((y-m*x-c)**2)\n",
    "    return total_cost"
   ]
  },
  {
   "cell_type": "code",
   "execution_count": 98,
   "metadata": {},
   "outputs": [],
   "source": [
    "def gd(data,learning_rate,num_iterations):\n",
    "    m=0\n",
    "    c=0\n",
    "    for i in range(num_iterations):\n",
    "        m,c=step_gradient(data,learning_rate,m,c)\n",
    "        print(i,'cost:',cost(data,m,c))\n",
    "    return m,c\n"
   ]
  },
  {
   "cell_type": "code",
   "execution_count": 99,
   "metadata": {},
   "outputs": [],
   "source": [
    "def run():\n",
    "    data=np.loadtxt('data.csv',delimiter=',')\n",
    "    learning_rate=0.0001\n",
    "    num_iterations=100\n",
    "    m,c=gd(data,learning_rate,num_iterations)\n",
    "    print(m,c)\n",
    "    "
   ]
  },
  {
   "cell_type": "code",
   "execution_count": 100,
   "metadata": {
    "collapsed": true
   },
   "outputs": [
    {
     "name": "stdout",
     "output_type": "stream",
     "text": [
      "0 cost: 6372981.720933961\n",
      "1 cost: 24746718.73664506\n",
      "2 cost: 55119844.68399793\n",
      "3 cost: 97485431.2741245\n",
      "4 cost: 151836553.3989072\n",
      "5 cost: 218166289.1296285\n",
      "6 cost: 296467719.7156208\n",
      "7 cost: 386733929.58291703\n",
      "8 cost: 488958006.3329014\n",
      "9 cost: 603133040.7409611\n",
      "10 cost: 729252126.755138\n",
      "11 cost: 867308361.4947829\n",
      "12 cost: 1017294845.2492075\n",
      "13 cost: 1179204681.4763377\n",
      "14 cost: 1353030976.8013701\n",
      "15 cost: 1538766841.0154245\n",
      "16 cost: 1736405387.0741985\n",
      "17 cost: 1945939731.0966315\n",
      "18 cost: 2167362992.363548\n",
      "19 cost: 2400668293.3163266\n",
      "20 cost: 2645848759.5555515\n",
      "21 cost: 2902897519.839671\n",
      "22 cost: 3171807706.083661\n",
      "23 cost: 3452572453.3576813\n",
      "24 cost: 3745184899.8857274\n",
      "25 cost: 4049638187.0443068\n",
      "26 cost: 4365925459.361085\n",
      "27 cost: 4694039864.513563\n",
      "28 cost: 5033974553.32772\n",
      "29 cost: 5385722679.776697\n",
      "30 cost: 5749277400.979439\n",
      "31 cost: 6124631877.199374\n",
      "32 cost: 6511779271.843075\n",
      "33 cost: 6910712751.458911\n",
      "34 cost: 7321425485.735737\n",
      "35 cost: 7743910647.501546\n",
      "36 cost: 8178161412.72212\n",
      "37 cost: 8624170960.499727\n",
      "38 cost: 9081932473.071775\n",
      "39 cost: 9551439135.809479\n",
      "40 cost: 10032684137.216516\n",
      "41 cost: 10525660668.927721\n",
      "42 cost: 11030361925.707762\n",
      "43 cost: 11546781105.449747\n",
      "44 cost: 12074911409.173979\n",
      "45 cost: 12614746041.026585\n",
      "46 cost: 13166278208.27818\n",
      "47 cost: 13729501121.322544\n",
      "48 cost: 14304407993.675331\n",
      "49 cost: 14890992041.972685\n",
      "50 cost: 15489246485.969957\n",
      "51 cost: 16099164548.54037\n",
      "52 cost: 16720739455.673676\n",
      "53 cost: 17353964436.474857\n",
      "54 cost: 17998832723.162792\n",
      "55 cost: 18655337551.068913\n",
      "56 cost: 19323472158.63595\n",
      "57 cost: 20003229787.416466\n",
      "58 cost: 20694603682.071754\n",
      "59 cost: 21397587090.37028\n",
      "60 cost: 22112173263.18655\n",
      "61 cost: 22838355454.49969\n",
      "62 cost: 23576126921.392113\n",
      "63 cost: 24325480924.048313\n",
      "64 cost: 25086410725.75341\n",
      "65 cost: 25858909592.891937\n",
      "66 cost: 26642970794.946434\n",
      "67 cost: 27438587604.496246\n",
      "68 cost: 28245753297.216034\n",
      "69 cost: 29064461151.874672\n",
      "70 cost: 29894704450.333797\n",
      "71 cost: 30736476477.54645\n",
      "72 cost: 31589770521.55593\n",
      "73 cost: 32454579873.494335\n",
      "74 cost: 33330897827.581287\n",
      "75 cost: 34218717681.122684\n",
      "76 cost: 35118032734.50927\n",
      "77 cost: 36028836291.215416\n",
      "78 cost: 36951121657.79784\n",
      "79 cost: 37884882143.89411\n",
      "80 cost: 38830111062.22161\n",
      "81 cost: 39786801728.576004\n",
      "82 cost: 40754947461.82995\n",
      "83 cost: 41734541583.93203\n",
      "84 cost: 42725577419.905075\n",
      "85 cost: 43728048297.84513\n",
      "86 cost: 44741947548.92008\n",
      "87 cost: 45767268507.36833\n",
      "88 cost: 46804004510.49743\n",
      "89 cost: 47852148898.68287\n",
      "90 cost: 48911695015.36682\n",
      "91 cost: 49982636207.05657\n",
      "92 cost: 51064965823.32365\n",
      "93 cost: 52158677216.80206\n",
      "94 cost: 53263763743.18736\n",
      "95 cost: 54380218761.23502\n",
      "96 cost: 55508035632.75953\n",
      "97 cost: 56647207722.63265\n",
      "98 cost: 57797728398.782455\n",
      "99 cost: 58959591032.191895\n",
      "-4861.7654069730315 -95.51321730800618\n"
     ]
    }
   ],
   "source": [
    "run()"
   ]
  }
 ],
 "metadata": {
  "kernelspec": {
   "display_name": "Python 3",
   "language": "python",
   "name": "python3"
  },
  "language_info": {
   "codemirror_mode": {
    "name": "ipython",
    "version": 3
   },
   "file_extension": ".py",
   "mimetype": "text/x-python",
   "name": "python",
   "nbconvert_exporter": "python",
   "pygments_lexer": "ipython3",
   "version": "3.6.12"
  }
 },
 "nbformat": 4,
 "nbformat_minor": 2
}
